{
 "cells": [
  {
   "cell_type": "code",
   "execution_count": null,
   "id": "40d7c201",
   "metadata": {},
   "outputs": [
    {
     "name": "stderr",
     "output_type": "stream",
     "text": [
      "C:\\Users\\diego\\AppData\\Local\\Temp\\ipykernel_25076\\1703876092.py:24: DtypeWarning: Columns (23) have mixed types. Specify dtype option on import or set low_memory=False.\n",
      "  df = pd.read_csv(file_path)\n"
     ]
    },
    {
     "name": "stdout",
     "output_type": "stream",
     "text": [
      "Tabla 'Amazon_Sale_Report' succesfully import.\n",
      "Tabla 'Cloud_Warehouse_Compersion_Chart' succesfully import.\n",
      "Tabla 'Expense_IIGF' succesfully import.\n",
      "Tabla 'International_sale_Report' succesfully import.\n",
      "Tabla 'May_2022' succesfully import.\n",
      "Tabla 'P_L_March_2021' succesfully import.\n",
      "Tabla 'Sale_Report' succesfully import.\n"
     ]
    }
   ],
   "source": [
    "import os\n",
    "import pandas as pd\n",
    "from sqlalchemy import create_engine\n",
    "\n",
    "#Configuration with the Database on PostreSQL\n",
    "\n",
    "user = \"postgres\"\n",
    "password = \"root\"\n",
    "host = \"localhost\"\n",
    "port = \"5432\"\n",
    "database = \"Portafolio\"\n",
    "engine = create_engine(f'postgresql+psycopg2://{user}:{password}@{host}:{port}/{database}')\n",
    "\n",
    "# Route of the file in the hard disk. Use a raw chain r\"\" (Ignores escape characters using \\)\n",
    "csv_folder = r\"C:\\Users\\diego\\OneDrive - Universidad de la Sabana\\DATA SCIENCE\\PORTAFOLIO\\CLEANING DATA\\ecommerce_dataset\"\n",
    "\n",
    "# Run through all the files and save them as dataframes\n",
    "for filename in os.listdir(csv_folder):\n",
    "    if filename.endswith(\".csv\"):\n",
    "        table_name = os.path.splitext(filename)[0]  # Table name = File name\n",
    "        file_path = os.path.join(csv_folder, filename) #Complement the route of the folder with each file\n",
    "        \n",
    "        # Read CSV\n",
    "        df = pd.read_csv(file_path)\n",
    "        \n",
    "        # Upload the dataframe to PostgreSQL.\n",
    "        df.to_sql(table_name, engine, index=False, if_exists='replace')\n",
    "        print(f\"Tabla '{table_name}' succesfully import.\")\n"
   ]
  },
  {
   "cell_type": "code",
   "execution_count": null,
   "id": "43016aa6",
   "metadata": {},
   "outputs": [],
   "source": []
  }
 ],
 "metadata": {
  "kernelspec": {
   "display_name": "Python 3",
   "language": "python",
   "name": "python3"
  },
  "language_info": {
   "codemirror_mode": {
    "name": "ipython",
    "version": 3
   },
   "file_extension": ".py",
   "mimetype": "text/x-python",
   "name": "python",
   "nbconvert_exporter": "python",
   "pygments_lexer": "ipython3",
   "version": "3.13.2"
  }
 },
 "nbformat": 4,
 "nbformat_minor": 5
}
